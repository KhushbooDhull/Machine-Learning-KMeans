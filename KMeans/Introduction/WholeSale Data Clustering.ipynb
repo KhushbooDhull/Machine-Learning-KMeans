{
 "cells": [
  {
   "cell_type": "markdown",
   "id": "d1ca4018",
   "metadata": {},
   "source": [
    "# WholeSale Data Clustering"
   ]
  },
  {
   "cell_type": "markdown",
   "id": "78a69560",
   "metadata": {},
   "source": [
    "### Importing Libraries"
   ]
  },
  {
   "cell_type": "code",
   "execution_count": 1,
   "id": "f56d4d3a",
   "metadata": {},
   "outputs": [],
   "source": [
    "import numpy as np\n",
    "import pandas as pd\n",
    "import matplotlib.pyplot as plt\n",
    "import seaborn as sns\n",
    "from warnings import filterwarnings\n",
    "filterwarnings('ignore')"
   ]
  },
  {
   "cell_type": "markdown",
   "id": "e7e9f8b7",
   "metadata": {},
   "source": [
    "### Read the dataset"
   ]
  },
  {
   "cell_type": "code",
   "execution_count": 3,
   "id": "3f3f5c7d",
   "metadata": {},
   "outputs": [
    {
     "data": {
      "text/html": [
       "<div>\n",
       "<style scoped>\n",
       "    .dataframe tbody tr th:only-of-type {\n",
       "        vertical-align: middle;\n",
       "    }\n",
       "\n",
       "    .dataframe tbody tr th {\n",
       "        vertical-align: top;\n",
       "    }\n",
       "\n",
       "    .dataframe thead th {\n",
       "        text-align: right;\n",
       "    }\n",
       "</style>\n",
       "<table border=\"1\" class=\"dataframe\">\n",
       "  <thead>\n",
       "    <tr style=\"text-align: right;\">\n",
       "      <th></th>\n",
       "      <th>Channel</th>\n",
       "      <th>Region</th>\n",
       "      <th>Fresh</th>\n",
       "      <th>Milk</th>\n",
       "      <th>Grocery</th>\n",
       "      <th>Frozen</th>\n",
       "      <th>Detergents_Paper</th>\n",
       "      <th>Delicassen</th>\n",
       "    </tr>\n",
       "  </thead>\n",
       "  <tbody>\n",
       "    <tr>\n",
       "      <th>0</th>\n",
       "      <td>2</td>\n",
       "      <td>3</td>\n",
       "      <td>12669</td>\n",
       "      <td>9656</td>\n",
       "      <td>7561</td>\n",
       "      <td>214</td>\n",
       "      <td>2674</td>\n",
       "      <td>1338</td>\n",
       "    </tr>\n",
       "    <tr>\n",
       "      <th>1</th>\n",
       "      <td>2</td>\n",
       "      <td>3</td>\n",
       "      <td>7057</td>\n",
       "      <td>9810</td>\n",
       "      <td>9568</td>\n",
       "      <td>1762</td>\n",
       "      <td>3293</td>\n",
       "      <td>1776</td>\n",
       "    </tr>\n",
       "    <tr>\n",
       "      <th>2</th>\n",
       "      <td>2</td>\n",
       "      <td>3</td>\n",
       "      <td>6353</td>\n",
       "      <td>8808</td>\n",
       "      <td>7684</td>\n",
       "      <td>2405</td>\n",
       "      <td>3516</td>\n",
       "      <td>7844</td>\n",
       "    </tr>\n",
       "    <tr>\n",
       "      <th>3</th>\n",
       "      <td>1</td>\n",
       "      <td>3</td>\n",
       "      <td>13265</td>\n",
       "      <td>1196</td>\n",
       "      <td>4221</td>\n",
       "      <td>6404</td>\n",
       "      <td>507</td>\n",
       "      <td>1788</td>\n",
       "    </tr>\n",
       "    <tr>\n",
       "      <th>4</th>\n",
       "      <td>2</td>\n",
       "      <td>3</td>\n",
       "      <td>22615</td>\n",
       "      <td>5410</td>\n",
       "      <td>7198</td>\n",
       "      <td>3915</td>\n",
       "      <td>1777</td>\n",
       "      <td>5185</td>\n",
       "    </tr>\n",
       "  </tbody>\n",
       "</table>\n",
       "</div>"
      ],
      "text/plain": [
       "   Channel  Region  Fresh  Milk  Grocery  Frozen  Detergents_Paper  Delicassen\n",
       "0        2       3  12669  9656     7561     214              2674        1338\n",
       "1        2       3   7057  9810     9568    1762              3293        1776\n",
       "2        2       3   6353  8808     7684    2405              3516        7844\n",
       "3        1       3  13265  1196     4221    6404               507        1788\n",
       "4        2       3  22615  5410     7198    3915              1777        5185"
      ]
     },
     "execution_count": 3,
     "metadata": {},
     "output_type": "execute_result"
    }
   ],
   "source": [
    "df= pd.read_csv('Wholesale_data.csv')\n",
    "df.head()"
   ]
  },
  {
   "cell_type": "code",
   "execution_count": 5,
   "id": "e1fb43c4",
   "metadata": {},
   "outputs": [
    {
     "data": {
      "text/plain": [
       "(440, 8)"
      ]
     },
     "execution_count": 5,
     "metadata": {},
     "output_type": "execute_result"
    }
   ],
   "source": [
    "df.shape"
   ]
  },
  {
   "cell_type": "code",
   "execution_count": 6,
   "id": "a187ae96",
   "metadata": {},
   "outputs": [
    {
     "data": {
      "text/plain": [
       "Channel             0\n",
       "Region              0\n",
       "Fresh               0\n",
       "Milk                0\n",
       "Grocery             0\n",
       "Frozen              0\n",
       "Detergents_Paper    0\n",
       "Delicassen          0\n",
       "dtype: int64"
      ]
     },
     "execution_count": 6,
     "metadata": {},
     "output_type": "execute_result"
    }
   ],
   "source": [
    "df.isnull().sum()"
   ]
  },
  {
   "cell_type": "code",
   "execution_count": 8,
   "id": "64132ec2",
   "metadata": {},
   "outputs": [
    {
     "data": {
      "text/plain": [
       "Channel             int64\n",
       "Region              int64\n",
       "Fresh               int64\n",
       "Milk                int64\n",
       "Grocery             int64\n",
       "Frozen              int64\n",
       "Detergents_Paper    int64\n",
       "Delicassen          int64\n",
       "dtype: object"
      ]
     },
     "execution_count": 8,
     "metadata": {},
     "output_type": "execute_result"
    }
   ],
   "source": [
    "df.dtypes"
   ]
  },
  {
   "cell_type": "code",
   "execution_count": 9,
   "id": "fba286d2",
   "metadata": {},
   "outputs": [
    {
     "data": {
      "text/html": [
       "<div>\n",
       "<style scoped>\n",
       "    .dataframe tbody tr th:only-of-type {\n",
       "        vertical-align: middle;\n",
       "    }\n",
       "\n",
       "    .dataframe tbody tr th {\n",
       "        vertical-align: top;\n",
       "    }\n",
       "\n",
       "    .dataframe thead th {\n",
       "        text-align: right;\n",
       "    }\n",
       "</style>\n",
       "<table border=\"1\" class=\"dataframe\">\n",
       "  <thead>\n",
       "    <tr style=\"text-align: right;\">\n",
       "      <th></th>\n",
       "      <th>Fresh</th>\n",
       "      <th>Milk</th>\n",
       "      <th>Grocery</th>\n",
       "      <th>Frozen</th>\n",
       "      <th>Detergents_Paper</th>\n",
       "      <th>Delicassen</th>\n",
       "    </tr>\n",
       "  </thead>\n",
       "  <tbody>\n",
       "    <tr>\n",
       "      <th>0</th>\n",
       "      <td>12669</td>\n",
       "      <td>9656</td>\n",
       "      <td>7561</td>\n",
       "      <td>214</td>\n",
       "      <td>2674</td>\n",
       "      <td>1338</td>\n",
       "    </tr>\n",
       "    <tr>\n",
       "      <th>1</th>\n",
       "      <td>7057</td>\n",
       "      <td>9810</td>\n",
       "      <td>9568</td>\n",
       "      <td>1762</td>\n",
       "      <td>3293</td>\n",
       "      <td>1776</td>\n",
       "    </tr>\n",
       "    <tr>\n",
       "      <th>2</th>\n",
       "      <td>6353</td>\n",
       "      <td>8808</td>\n",
       "      <td>7684</td>\n",
       "      <td>2405</td>\n",
       "      <td>3516</td>\n",
       "      <td>7844</td>\n",
       "    </tr>\n",
       "    <tr>\n",
       "      <th>3</th>\n",
       "      <td>13265</td>\n",
       "      <td>1196</td>\n",
       "      <td>4221</td>\n",
       "      <td>6404</td>\n",
       "      <td>507</td>\n",
       "      <td>1788</td>\n",
       "    </tr>\n",
       "    <tr>\n",
       "      <th>4</th>\n",
       "      <td>22615</td>\n",
       "      <td>5410</td>\n",
       "      <td>7198</td>\n",
       "      <td>3915</td>\n",
       "      <td>1777</td>\n",
       "      <td>5185</td>\n",
       "    </tr>\n",
       "  </tbody>\n",
       "</table>\n",
       "</div>"
      ],
      "text/plain": [
       "   Fresh  Milk  Grocery  Frozen  Detergents_Paper  Delicassen\n",
       "0  12669  9656     7561     214              2674        1338\n",
       "1   7057  9810     9568    1762              3293        1776\n",
       "2   6353  8808     7684    2405              3516        7844\n",
       "3  13265  1196     4221    6404               507        1788\n",
       "4  22615  5410     7198    3915              1777        5185"
      ]
     },
     "execution_count": 9,
     "metadata": {},
     "output_type": "execute_result"
    }
   ],
   "source": [
    "data= df.iloc[:,2:]\n",
    "data.head()"
   ]
  },
  {
   "cell_type": "code",
   "execution_count": 11,
   "id": "5782fdfe",
   "metadata": {},
   "outputs": [],
   "source": [
    "from sklearn.cluster import KMeans"
   ]
  },
  {
   "cell_type": "code",
   "execution_count": 13,
   "id": "04df7ad4",
   "metadata": {},
   "outputs": [
    {
     "name": "stdout",
     "output_type": "stream",
     "text": [
      "WCSS\n",
      " [157595857165.60907, 113217528520.90994, 80332413843.01636, 64855545528.21104, 52928148942.57611, 47525452877.90758, 41158638815.56956, 35982756928.00334, 33308797243.47746, 30259086389.915966, 27544761990.52861, 26715651952.9848, 24650810900.65626, 22269269886.867386, 21257181137.415417, 19913977243.794548, 18812189672.519794, 17946253952.92514]\n"
     ]
    },
    {
     "data": {
      "image/png": "[encoded data removed]",
      "text/plain": [
       "<Figure size 432x288 with 1 Axes>"
      ]
     },
     "metadata": {
      "needs_background": "light"
     },
     "output_type": "display_data"
    }
   ],
   "source": [
    "wcss = []\n",
    "for i in range(1,19): # no of clusters\n",
    "    m = KMeans(n_clusters=i)\n",
    "    m.fit(data)\n",
    "    wcss.append(m.inertia_)\n",
    "\n",
    "print('WCSS\\n',wcss)\n",
    "plt.plot(list(range(1,19)),wcss)\n",
    "plt.xlabel('No of clusters')\n",
    "plt.ylabel('WCSS')\n",
    "plt.show()"
   ]
  },
  {
   "cell_type": "markdown",
   "id": "6e742e40",
   "metadata": {},
   "source": [
    "- Optimal number of cluster=5 (elbow bend)"
   ]
  },
  {
   "cell_type": "code",
   "execution_count": 23,
   "id": "920cd317",
   "metadata": {},
   "outputs": [
    {
     "name": "stdout",
     "output_type": "stream",
     "text": [
      "[1 1 1 1 2 1 1 1 1 0 0 1 2 2 2 1 0 1 2 1 2 1 2 0 2 2 1 1 0 2 2 1 2 2 1 1 2\n",
      " 0 0 4 2 2 0 0 1 0 0 3 1 0 1 1 2 0 2 1 0 0 1 1 1 3 1 0 1 3 1 2 1 1 2 2 1 2\n",
      " 1 2 1 0 1 1 1 0 1 2 1 3 3 4 1 2 1 1 0 1 0 1 1 1 1 1 0 0 1 4 1 2 0 0 1 0 1\n",
      " 0 2 1 2 1 1 1 2 1 2 1 1 1 2 4 2 2 1 2 1 1 1 1 1 1 1 1 1 1 2 2 2 1 2 0 1 1\n",
      " 1 2 2 1 2 1 1 0 0 2 1 0 1 1 1 0 1 0 1 1 1 1 0 0 1 0 1 0 4 1 1 1 1 4 0 4 1\n",
      " 1 1 1 0 0 2 1 1 0 1 2 2 1 1 1 0 0 2 1 1 0 1 1 1 0 2 3 1 1 0 0 0 2 0 1 1 1\n",
      " 1 1 1 1 2 1 1 1 1 1 2 1 2 1 1 2 1 4 2 2 2 1 1 0 1 1 2 1 1 0 1 2 1 2 1 1 4\n",
      " 4 1 1 2 1 0 0 0 2 0 1 1 1 1 2 1 1 2 1 1 2 1 1 4 2 4 2 1 2 2 2 1 1 1 0 2 1\n",
      " 2 1 1 1 2 0 1 0 0 0 0 2 1 0 1 2 0 1 1 0 1 1 1 0 1 1 2 1 2 4 1 1 2 1 1 0 2\n",
      " 3 2 2 1 1 1 1 1 1 1 0 1 1 0 2 1 0 1 0 1 0 1 1 2 0 1 1 2 1 1 1 1 1 1 1 2 1\n",
      " 2 2 1 2 1 1 0 2 1 1 2 2 2 1 0 1 1 2 1 1 1 1 1 2 1 1 0 1 1 1 1 2 2 2 2 1 2\n",
      " 0 1 1 1 1 1 1 1 1 0 1 0 1 0 2 2 2 2 1 0 2 1 1 0 1 2 1 2 2 2 0 1 1]\n"
     ]
    }
   ],
   "source": [
    "k5= KMeans(n_clusters=5)\n",
    "k5.fit(data)\n",
    "ypred5=k5.predict(data)\n",
    "print(ypred5)"
   ]
  },
  {
   "cell_type": "code",
   "execution_count": 24,
   "id": "0be911d4",
   "metadata": {},
   "outputs": [
    {
     "data": {
      "text/html": [
       "<div>\n",
       "<style scoped>\n",
       "    .dataframe tbody tr th:only-of-type {\n",
       "        vertical-align: middle;\n",
       "    }\n",
       "\n",
       "    .dataframe tbody tr th {\n",
       "        vertical-align: top;\n",
       "    }\n",
       "\n",
       "    .dataframe thead th {\n",
       "        text-align: right;\n",
       "    }\n",
       "</style>\n",
       "<table border=\"1\" class=\"dataframe\">\n",
       "  <thead>\n",
       "    <tr style=\"text-align: right;\">\n",
       "      <th></th>\n",
       "      <th>Channel</th>\n",
       "      <th>Region</th>\n",
       "      <th>Fresh</th>\n",
       "      <th>Milk</th>\n",
       "      <th>Grocery</th>\n",
       "      <th>Frozen</th>\n",
       "      <th>Detergents_Paper</th>\n",
       "      <th>Delicassen</th>\n",
       "      <th>Cls5</th>\n",
       "    </tr>\n",
       "  </thead>\n",
       "  <tbody>\n",
       "    <tr>\n",
       "      <th>0</th>\n",
       "      <td>2</td>\n",
       "      <td>3</td>\n",
       "      <td>12669</td>\n",
       "      <td>9656</td>\n",
       "      <td>7561</td>\n",
       "      <td>214</td>\n",
       "      <td>2674</td>\n",
       "      <td>1338</td>\n",
       "      <td>1</td>\n",
       "    </tr>\n",
       "    <tr>\n",
       "      <th>1</th>\n",
       "      <td>2</td>\n",
       "      <td>3</td>\n",
       "      <td>7057</td>\n",
       "      <td>9810</td>\n",
       "      <td>9568</td>\n",
       "      <td>1762</td>\n",
       "      <td>3293</td>\n",
       "      <td>1776</td>\n",
       "      <td>1</td>\n",
       "    </tr>\n",
       "    <tr>\n",
       "      <th>2</th>\n",
       "      <td>2</td>\n",
       "      <td>3</td>\n",
       "      <td>6353</td>\n",
       "      <td>8808</td>\n",
       "      <td>7684</td>\n",
       "      <td>2405</td>\n",
       "      <td>3516</td>\n",
       "      <td>7844</td>\n",
       "      <td>1</td>\n",
       "    </tr>\n",
       "    <tr>\n",
       "      <th>3</th>\n",
       "      <td>1</td>\n",
       "      <td>3</td>\n",
       "      <td>13265</td>\n",
       "      <td>1196</td>\n",
       "      <td>4221</td>\n",
       "      <td>6404</td>\n",
       "      <td>507</td>\n",
       "      <td>1788</td>\n",
       "      <td>1</td>\n",
       "    </tr>\n",
       "    <tr>\n",
       "      <th>4</th>\n",
       "      <td>2</td>\n",
       "      <td>3</td>\n",
       "      <td>22615</td>\n",
       "      <td>5410</td>\n",
       "      <td>7198</td>\n",
       "      <td>3915</td>\n",
       "      <td>1777</td>\n",
       "      <td>5185</td>\n",
       "      <td>2</td>\n",
       "    </tr>\n",
       "  </tbody>\n",
       "</table>\n",
       "</div>"
      ],
      "text/plain": [
       "   Channel  Region  Fresh  Milk  Grocery  Frozen  Detergents_Paper  \\\n",
       "0        2       3  12669  9656     7561     214              2674   \n",
       "1        2       3   7057  9810     9568    1762              3293   \n",
       "2        2       3   6353  8808     7684    2405              3516   \n",
       "3        1       3  13265  1196     4221    6404               507   \n",
       "4        2       3  22615  5410     7198    3915              1777   \n",
       "\n",
       "   Delicassen  Cls5  \n",
       "0        1338     1  \n",
       "1        1776     1  \n",
       "2        7844     1  \n",
       "3        1788     1  \n",
       "4        5185     2  "
      ]
     },
     "execution_count": 24,
     "metadata": {},
     "output_type": "execute_result"
    }
   ],
   "source": [
    "df['Cls5']=ypred5\n",
    "df.head()"
   ]
  },
  {
   "cell_type": "code",
   "execution_count": 25,
   "id": "8dc3e296",
   "metadata": {},
   "outputs": [
    {
     "data": {
      "text/plain": [
       "1    233\n",
       "2    106\n",
       "0     81\n",
       "4     13\n",
       "3      7\n",
       "Name: Cls5, dtype: int64"
      ]
     },
     "execution_count": 25,
     "metadata": {},
     "output_type": "execute_result"
    }
   ],
   "source": [
    "df['Cls5'].value_counts()"
   ]
  },
  {
   "cell_type": "code",
   "execution_count": 28,
   "id": "aef4e990",
   "metadata": {},
   "outputs": [
    {
     "data": {
      "text/plain": [
       "Fresh               12000.297727\n",
       "Milk                 5796.265909\n",
       "Grocery              7951.277273\n",
       "Frozen               3071.931818\n",
       "Detergents_Paper     2881.493182\n",
       "Delicassen           1524.870455\n",
       "dtype: float64"
      ]
     },
     "execution_count": 28,
     "metadata": {},
     "output_type": "execute_result"
    }
   ],
   "source": [
    "r=data.mean()\n",
    "r"
   ]
  },
  {
   "cell_type": "code",
   "execution_count": 33,
   "id": "7893a381",
   "metadata": {},
   "outputs": [
    {
     "data": {
      "text/html": [
       "<div>\n",
       "<style scoped>\n",
       "    .dataframe tbody tr th:only-of-type {\n",
       "        vertical-align: middle;\n",
       "    }\n",
       "\n",
       "    .dataframe tbody tr th {\n",
       "        vertical-align: top;\n",
       "    }\n",
       "\n",
       "    .dataframe thead th {\n",
       "        text-align: right;\n",
       "    }\n",
       "</style>\n",
       "<table border=\"1\" class=\"dataframe\">\n",
       "  <thead>\n",
       "    <tr style=\"text-align: right;\">\n",
       "      <th></th>\n",
       "      <th>Mean</th>\n",
       "    </tr>\n",
       "  </thead>\n",
       "  <tbody>\n",
       "    <tr>\n",
       "      <th>Fresh</th>\n",
       "      <td>12000.297727</td>\n",
       "    </tr>\n",
       "    <tr>\n",
       "      <th>Milk</th>\n",
       "      <td>5796.265909</td>\n",
       "    </tr>\n",
       "    <tr>\n",
       "      <th>Grocery</th>\n",
       "      <td>7951.277273</td>\n",
       "    </tr>\n",
       "    <tr>\n",
       "      <th>Frozen</th>\n",
       "      <td>3071.931818</td>\n",
       "    </tr>\n",
       "    <tr>\n",
       "      <th>Detergents_Paper</th>\n",
       "      <td>2881.493182</td>\n",
       "    </tr>\n",
       "    <tr>\n",
       "      <th>Delicassen</th>\n",
       "      <td>1524.870455</td>\n",
       "    </tr>\n",
       "  </tbody>\n",
       "</table>\n",
       "</div>"
      ],
      "text/plain": [
       "                          Mean\n",
       "Fresh             12000.297727\n",
       "Milk               5796.265909\n",
       "Grocery            7951.277273\n",
       "Frozen             3071.931818\n",
       "Detergents_Paper   2881.493182\n",
       "Delicassen         1524.870455"
      ]
     },
     "execution_count": 33,
     "metadata": {},
     "output_type": "execute_result"
    }
   ],
   "source": [
    "res=pd.DataFrame(r,columns=['Mean'])\n",
    "res"
   ]
  },
  {
   "cell_type": "code",
   "execution_count": 34,
   "id": "4b6d645a",
   "metadata": {},
   "outputs": [
    {
     "data": {
      "text/html": [
       "<div>\n",
       "<style scoped>\n",
       "    .dataframe tbody tr th:only-of-type {\n",
       "        vertical-align: middle;\n",
       "    }\n",
       "\n",
       "    .dataframe tbody tr th {\n",
       "        vertical-align: top;\n",
       "    }\n",
       "\n",
       "    .dataframe thead th {\n",
       "        text-align: right;\n",
       "    }\n",
       "</style>\n",
       "<table border=\"1\" class=\"dataframe\">\n",
       "  <thead>\n",
       "    <tr style=\"text-align: right;\">\n",
       "      <th>Cls5</th>\n",
       "      <th>0</th>\n",
       "      <th>1</th>\n",
       "      <th>2</th>\n",
       "      <th>3</th>\n",
       "      <th>4</th>\n",
       "    </tr>\n",
       "  </thead>\n",
       "  <tbody>\n",
       "    <tr>\n",
       "      <th>Fresh</th>\n",
       "      <td>4991.481481</td>\n",
       "      <td>6387.806867</td>\n",
       "      <td>23710.849057</td>\n",
       "      <td>20031.285714</td>\n",
       "      <td>56453.307692</td>\n",
       "    </tr>\n",
       "    <tr>\n",
       "      <th>Milk</th>\n",
       "      <td>12140.543210</td>\n",
       "      <td>3255.562232</td>\n",
       "      <td>3882.056604</td>\n",
       "      <td>38084.000000</td>\n",
       "      <td>10026.230769</td>\n",
       "    </tr>\n",
       "    <tr>\n",
       "      <th>Grocery</th>\n",
       "      <td>18505.506173</td>\n",
       "      <td>4056.562232</td>\n",
       "      <td>5169.311321</td>\n",
       "      <td>56126.142857</td>\n",
       "      <td>8739.000000</td>\n",
       "    </tr>\n",
       "    <tr>\n",
       "      <th>Frozen</th>\n",
       "      <td>1591.111111</td>\n",
       "      <td>2588.858369</td>\n",
       "      <td>3772.443396</td>\n",
       "      <td>2564.571429</td>\n",
       "      <td>15518.076923</td>\n",
       "    </tr>\n",
       "    <tr>\n",
       "      <th>Detergents_Paper</th>\n",
       "      <td>8148.246914</td>\n",
       "      <td>1199.330472</td>\n",
       "      <td>1118.264151</td>\n",
       "      <td>27644.571429</td>\n",
       "      <td>1258.230769</td>\n",
       "    </tr>\n",
       "    <tr>\n",
       "      <th>Delicassen</th>\n",
       "      <td>1822.407407</td>\n",
       "      <td>999.163090</td>\n",
       "      <td>1693.103774</td>\n",
       "      <td>2548.142857</td>\n",
       "      <td>7170.538462</td>\n",
       "    </tr>\n",
       "  </tbody>\n",
       "</table>\n",
       "</div>"
      ],
      "text/plain": [
       "Cls5                         0            1             2             3  \\\n",
       "Fresh              4991.481481  6387.806867  23710.849057  20031.285714   \n",
       "Milk              12140.543210  3255.562232   3882.056604  38084.000000   \n",
       "Grocery           18505.506173  4056.562232   5169.311321  56126.142857   \n",
       "Frozen             1591.111111  2588.858369   3772.443396   2564.571429   \n",
       "Detergents_Paper   8148.246914  1199.330472   1118.264151  27644.571429   \n",
       "Delicassen         1822.407407   999.163090   1693.103774   2548.142857   \n",
       "\n",
       "Cls5                         4  \n",
       "Fresh             56453.307692  \n",
       "Milk              10026.230769  \n",
       "Grocery            8739.000000  \n",
       "Frozen            15518.076923  \n",
       "Detergents_Paper   1258.230769  \n",
       "Delicassen         7170.538462  "
      ]
     },
     "execution_count": 34,
     "metadata": {},
     "output_type": "execute_result"
    }
   ],
   "source": [
    "res1=df.iloc[:,2:].groupby(['Cls5']).mean().T\n",
    "res1"
   ]
  },
  {
   "cell_type": "code",
   "execution_count": 35,
   "id": "052a80e8",
   "metadata": {},
   "outputs": [
    {
     "data": {
      "text/html": [
       "<div>\n",
       "<style scoped>\n",
       "    .dataframe tbody tr th:only-of-type {\n",
       "        vertical-align: middle;\n",
       "    }\n",
       "\n",
       "    .dataframe tbody tr th {\n",
       "        vertical-align: top;\n",
       "    }\n",
       "\n",
       "    .dataframe thead th {\n",
       "        text-align: right;\n",
       "    }\n",
       "</style>\n",
       "<table border=\"1\" class=\"dataframe\">\n",
       "  <thead>\n",
       "    <tr style=\"text-align: right;\">\n",
       "      <th>Cls5</th>\n",
       "      <th>0</th>\n",
       "      <th>1</th>\n",
       "      <th>2</th>\n",
       "      <th>3</th>\n",
       "      <th>4</th>\n",
       "      <th>Mean</th>\n",
       "    </tr>\n",
       "  </thead>\n",
       "  <tbody>\n",
       "    <tr>\n",
       "      <th>Fresh</th>\n",
       "      <td>4991.481481</td>\n",
       "      <td>6387.806867</td>\n",
       "      <td>23710.849057</td>\n",
       "      <td>20031.285714</td>\n",
       "      <td>56453.307692</td>\n",
       "      <td>12000.297727</td>\n",
       "    </tr>\n",
       "    <tr>\n",
       "      <th>Milk</th>\n",
       "      <td>12140.543210</td>\n",
       "      <td>3255.562232</td>\n",
       "      <td>3882.056604</td>\n",
       "      <td>38084.000000</td>\n",
       "      <td>10026.230769</td>\n",
       "      <td>5796.265909</td>\n",
       "    </tr>\n",
       "    <tr>\n",
       "      <th>Grocery</th>\n",
       "      <td>18505.506173</td>\n",
       "      <td>4056.562232</td>\n",
       "      <td>5169.311321</td>\n",
       "      <td>56126.142857</td>\n",
       "      <td>8739.000000</td>\n",
       "      <td>7951.277273</td>\n",
       "    </tr>\n",
       "    <tr>\n",
       "      <th>Frozen</th>\n",
       "      <td>1591.111111</td>\n",
       "      <td>2588.858369</td>\n",
       "      <td>3772.443396</td>\n",
       "      <td>2564.571429</td>\n",
       "      <td>15518.076923</td>\n",
       "      <td>3071.931818</td>\n",
       "    </tr>\n",
       "    <tr>\n",
       "      <th>Detergents_Paper</th>\n",
       "      <td>8148.246914</td>\n",
       "      <td>1199.330472</td>\n",
       "      <td>1118.264151</td>\n",
       "      <td>27644.571429</td>\n",
       "      <td>1258.230769</td>\n",
       "      <td>2881.493182</td>\n",
       "    </tr>\n",
       "    <tr>\n",
       "      <th>Delicassen</th>\n",
       "      <td>1822.407407</td>\n",
       "      <td>999.163090</td>\n",
       "      <td>1693.103774</td>\n",
       "      <td>2548.142857</td>\n",
       "      <td>7170.538462</td>\n",
       "      <td>1524.870455</td>\n",
       "    </tr>\n",
       "  </tbody>\n",
       "</table>\n",
       "</div>"
      ],
      "text/plain": [
       "Cls5                         0            1             2             3  \\\n",
       "Fresh              4991.481481  6387.806867  23710.849057  20031.285714   \n",
       "Milk              12140.543210  3255.562232   3882.056604  38084.000000   \n",
       "Grocery           18505.506173  4056.562232   5169.311321  56126.142857   \n",
       "Frozen             1591.111111  2588.858369   3772.443396   2564.571429   \n",
       "Detergents_Paper   8148.246914  1199.330472   1118.264151  27644.571429   \n",
       "Delicassen         1822.407407   999.163090   1693.103774   2548.142857   \n",
       "\n",
       "Cls5                         4          Mean  \n",
       "Fresh             56453.307692  12000.297727  \n",
       "Milk              10026.230769   5796.265909  \n",
       "Grocery            8739.000000   7951.277273  \n",
       "Frozen            15518.076923   3071.931818  \n",
       "Detergents_Paper   1258.230769   2881.493182  \n",
       "Delicassen         7170.538462   1524.870455  "
      ]
     },
     "execution_count": 35,
     "metadata": {},
     "output_type": "execute_result"
    }
   ],
   "source": [
    "res1['Mean']=res['Mean']\n",
    "res1"
   ]
  },
  {
   "cell_type": "code",
   "execution_count": 36,
   "id": "c1142315",
   "metadata": {},
   "outputs": [
    {
     "data": {
      "text/html": [
       "<div>\n",
       "<style scoped>\n",
       "    .dataframe tbody tr th:only-of-type {\n",
       "        vertical-align: middle;\n",
       "    }\n",
       "\n",
       "    .dataframe tbody tr th {\n",
       "        vertical-align: top;\n",
       "    }\n",
       "\n",
       "    .dataframe thead th {\n",
       "        text-align: right;\n",
       "    }\n",
       "</style>\n",
       "<table border=\"1\" class=\"dataframe\">\n",
       "  <thead>\n",
       "    <tr style=\"text-align: right;\">\n",
       "      <th>Cls5</th>\n",
       "      <th>Mean</th>\n",
       "      <th>0</th>\n",
       "      <th>1</th>\n",
       "      <th>2</th>\n",
       "      <th>3</th>\n",
       "      <th>4</th>\n",
       "    </tr>\n",
       "  </thead>\n",
       "  <tbody>\n",
       "    <tr>\n",
       "      <th>Fresh</th>\n",
       "      <td>12000.297727</td>\n",
       "      <td>4991.481481</td>\n",
       "      <td>6387.806867</td>\n",
       "      <td>23710.849057</td>\n",
       "      <td>20031.285714</td>\n",
       "      <td>56453.307692</td>\n",
       "    </tr>\n",
       "    <tr>\n",
       "      <th>Milk</th>\n",
       "      <td>5796.265909</td>\n",
       "      <td>12140.543210</td>\n",
       "      <td>3255.562232</td>\n",
       "      <td>3882.056604</td>\n",
       "      <td>38084.000000</td>\n",
       "      <td>10026.230769</td>\n",
       "    </tr>\n",
       "    <tr>\n",
       "      <th>Grocery</th>\n",
       "      <td>7951.277273</td>\n",
       "      <td>18505.506173</td>\n",
       "      <td>4056.562232</td>\n",
       "      <td>5169.311321</td>\n",
       "      <td>56126.142857</td>\n",
       "      <td>8739.000000</td>\n",
       "    </tr>\n",
       "    <tr>\n",
       "      <th>Frozen</th>\n",
       "      <td>3071.931818</td>\n",
       "      <td>1591.111111</td>\n",
       "      <td>2588.858369</td>\n",
       "      <td>3772.443396</td>\n",
       "      <td>2564.571429</td>\n",
       "      <td>15518.076923</td>\n",
       "    </tr>\n",
       "    <tr>\n",
       "      <th>Detergents_Paper</th>\n",
       "      <td>2881.493182</td>\n",
       "      <td>8148.246914</td>\n",
       "      <td>1199.330472</td>\n",
       "      <td>1118.264151</td>\n",
       "      <td>27644.571429</td>\n",
       "      <td>1258.230769</td>\n",
       "    </tr>\n",
       "    <tr>\n",
       "      <th>Delicassen</th>\n",
       "      <td>1524.870455</td>\n",
       "      <td>1822.407407</td>\n",
       "      <td>999.163090</td>\n",
       "      <td>1693.103774</td>\n",
       "      <td>2548.142857</td>\n",
       "      <td>7170.538462</td>\n",
       "    </tr>\n",
       "  </tbody>\n",
       "</table>\n",
       "</div>"
      ],
      "text/plain": [
       "Cls5                      Mean             0            1             2  \\\n",
       "Fresh             12000.297727   4991.481481  6387.806867  23710.849057   \n",
       "Milk               5796.265909  12140.543210  3255.562232   3882.056604   \n",
       "Grocery            7951.277273  18505.506173  4056.562232   5169.311321   \n",
       "Frozen             3071.931818   1591.111111  2588.858369   3772.443396   \n",
       "Detergents_Paper   2881.493182   8148.246914  1199.330472   1118.264151   \n",
       "Delicassen         1524.870455   1822.407407   999.163090   1693.103774   \n",
       "\n",
       "Cls5                         3             4  \n",
       "Fresh             20031.285714  56453.307692  \n",
       "Milk              38084.000000  10026.230769  \n",
       "Grocery           56126.142857   8739.000000  \n",
       "Frozen             2564.571429  15518.076923  \n",
       "Detergents_Paper  27644.571429   1258.230769  \n",
       "Delicassen         2548.142857   7170.538462  "
      ]
     },
     "execution_count": 36,
     "metadata": {},
     "output_type": "execute_result"
    }
   ],
   "source": [
    "res1=res1[['Mean',0,1,2,3,4]]\n",
    "res1"
   ]
  },
  {
   "cell_type": "markdown",
   "id": "9ad919ab",
   "metadata": {},
   "source": [
    "### Analyzing Results"
   ]
  },
  {
   "cell_type": "markdown",
   "id": "f2950450",
   "metadata": {},
   "source": [
    "- For Delicassen we see that the avg sales is 1524.87, here for clusters 0,2,3,4 the customers are spending more than average (regular customers) but for cluster 1 we see that they are spending less. So, we need to provide customers in Cluster 1 with some discounts or offers to make them regular customers."
   ]
  },
  {
   "cell_type": "code",
   "execution_count": null,
   "id": "177df44e",
   "metadata": {},
   "outputs": [],
   "source": []
  }
 ],
 "metadata": {
  "kernelspec": {
   "display_name": "Python 3 (ipykernel)",
   "language": "python",
   "name": "python3"
  },
  "language_info": {
   "codemirror_mode": {
    "name": "ipython",
    "version": 3
   },
   "file_extension": ".py",
   "mimetype": "text/x-python",
   "name": "python",
   "nbconvert_exporter": "python",
   "pygments_lexer": "ipython3",
   "version": "3.9.7"
  }
 },
 "nbformat": 4,
 "nbformat_minor": 5
}
